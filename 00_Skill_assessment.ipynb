{
  "nbformat": 4,
  "nbformat_minor": 0,
  "metadata": {
    "colab": {
      "provenance": [],
      "include_colab_link": true
    },
    "kernelspec": {
      "name": "python3",
      "display_name": "Python 3"
    },
    "language_info": {
      "name": "python"
    }
  },
  "cells": [
    {
      "cell_type": "markdown",
      "metadata": {
        "id": "view-in-github",
        "colab_type": "text"
      },
      "source": [
        "<a href=\"https://colab.research.google.com/github/Sousa-Marco/Data-Python/blob/main/00_Skill_assessment.ipynb\" target=\"_parent\"><img src=\"https://colab.research.google.com/assets/colab-badge.svg\" alt=\"Open In Colab\"/></a>"
      ]
    },
    {
      "cell_type": "markdown",
      "source": [
        "# How much do you already know, or can work out?\n",
        "\n",
        "The following 10 exercises and challenge are designed to help you, and us to get an idea of how much you already know.  \n",
        "\n",
        "If you can do the exercise without help or need to look anything up, you can type the code into the code cell, click the play button (top left) and run the code to get the expected output.  \n",
        "\n",
        "If you think you can work it out without too much help, you could use [w3schools](https://www.w3schools.com/python/default.asp) as a reference tool and look things up (if you have never come across Python but have done some coding before, in another language, this will be very possible).  \n",
        "\n",
        "If you have never done any coding, in any language, and are nervous about having a go, then you could do one of our introductory worksheets.  \n",
        "\n",
        "### See how far you can get here"
      ],
      "metadata": {
        "id": "zDFqeDzGfxX4"
      }
    },
    {
      "cell_type": "markdown",
      "metadata": {
        "id": "-vVXrDTXbDzp"
      },
      "source": [
        "### Exercise 1 - printing\n",
        "---\n",
        "Print \"hello world\"\n",
        "\n",
        "**Expected Output**  \n",
        "hello world"
      ]
    },
    {
      "cell_type": "code",
      "metadata": {
        "id": "Z_Jc0SncbEkM",
        "outputId": "811c5e6b-b678-4e0c-c2d4-387a63a282cd",
        "colab": {
          "base_uri": "https://localhost:8080/"
        }
      },
      "source": [
        "print(\"hello world\")\n"
      ],
      "execution_count": null,
      "outputs": [
        {
          "output_type": "stream",
          "name": "stdout",
          "text": [
            "hello world\n"
          ]
        }
      ]
    },
    {
      "cell_type": "markdown",
      "metadata": {
        "id": "n-u42LuZbPc2"
      },
      "source": [
        "### Exercise 2 - using input\n",
        "---\n",
        "Create an input that asks for the user's name, stores it in a variable called name, then will `print` it\n",
        "\n",
        "**Test Input**  \n",
        "Marianne\n",
        "\n",
        "**Expected Output**  \n",
        "Marianne"
      ]
    },
    {
      "cell_type": "code",
      "metadata": {
        "id": "02KvhKPdbZW-",
        "outputId": "073018ed-d7e4-4caf-926e-5afc9663606e",
        "colab": {
          "base_uri": "https://localhost:8080/"
        }
      },
      "source": [
        "print(\"Marianne\")"
      ],
      "execution_count": null,
      "outputs": [
        {
          "output_type": "stream",
          "name": "stdout",
          "text": [
            "Marianne\n"
          ]
        }
      ]
    },
    {
      "cell_type": "markdown",
      "metadata": {
        "id": "oXpvEknHbZvz"
      },
      "source": [
        "### Exercise 3 - operators, datatypes and input\n",
        "---\n",
        "\n",
        "Create 2 variables called **num1** and **num2** which each get their values from an input function which asks for a whole number and stores it as an integer\n",
        "\n",
        "Create a third variable called **num3** which adds **num1** and **num2** together\n",
        "\n",
        "**Test Input**  \n",
        "11  \n",
        "22  \n",
        "\n",
        "**Expected Output**  \n",
        "33\n"
      ]
    },
    {
      "cell_type": "code",
      "metadata": {
        "id": "WVnfbWjdcJPD",
        "outputId": "fb1850a4-28fd-4104-bb02-3b58eb7ccb6f",
        "colab": {
          "base_uri": "https://localhost:8080/"
        }
      },
      "source": [
        "num1 = int(input(\"Enter a number: \"));\n",
        "\n",
        "num2 = int(input(\"Enter a second number: \"));\n",
        "\n",
        "num3 = num1 + num2;\n",
        "\n",
        "print(num3)"
      ],
      "execution_count": null,
      "outputs": [
        {
          "output_type": "stream",
          "name": "stdout",
          "text": [
            "Enter a number: 11\n",
            "Enter a second number: 22\n",
            "33\n"
          ]
        }
      ]
    },
    {
      "cell_type": "markdown",
      "metadata": {
        "id": "EDPftM6dcJzK"
      },
      "source": [
        "### Exercise 4 - using if/else\n",
        "---\n",
        "\n",
        "Create variables to hold two inputed integers (you did this in the previous exercise). Create a third variable to hold the sum of the two integers. Then, if the answer is between 15 to 20 print 20, else return the correct answer\n",
        "\n",
        "**Test Input**  \n",
        "3  \n",
        "15  \n",
        "\n",
        "**Expected Output**  \n",
        "20"
      ]
    },
    {
      "cell_type": "code",
      "metadata": {
        "id": "JPXearXfdPZS",
        "outputId": "57c69da7-1ebd-43d1-b8c4-5672d6ca0ccb",
        "colab": {
          "base_uri": "https://localhost:8080/"
        }
      },
      "source": [
        "num1 = int(input(\"Enter a number: \"));\n",
        "\n",
        "num2 = int(input(\"Enter a second number: \"));\n",
        "\n",
        "num3 = num1 + num2;\n",
        "\n",
        "if num3 >= 15 and num3 <= 20:\n",
        "  print(\"20\");\n",
        "else:\n",
        "  print(num3);"
      ],
      "execution_count": null,
      "outputs": [
        {
          "output_type": "stream",
          "name": "stdout",
          "text": [
            "Enter a number: 3\n",
            "Enter a second number: 15\n",
            "20\n"
          ]
        }
      ]
    },
    {
      "cell_type": "markdown",
      "metadata": {
        "id": "c7hKrWgIdPrr"
      },
      "source": [
        "### Exercise 5 - using for loops\n",
        "---\n",
        "`Print` each letter of the string \"supercalifragilistic\" using a `for` loop\n",
        "\n",
        "**Expected Output**   \n",
        "s  \n",
        "u  \n",
        "p  \n",
        "e  \n",
        "r  \n",
        "c  \n",
        "a  \n",
        "l  \n",
        "i  \n",
        "f  \n",
        "r  \n",
        "a  \n",
        "g  \n",
        "i  \n",
        "l  \n",
        "i  \n",
        "s  \n",
        "t  \n",
        "i  \n",
        "c  "
      ]
    },
    {
      "cell_type": "code",
      "metadata": {
        "id": "bxE5C2jYdg2w",
        "outputId": "a20fdf48-336d-4a72-bda3-dcd57c90c559",
        "colab": {
          "base_uri": "https://localhost:8080/"
        }
      },
      "source": [
        "for i in \"supercalifragilistic\":\n",
        "  print(i);"
      ],
      "execution_count": null,
      "outputs": [
        {
          "output_type": "stream",
          "name": "stdout",
          "text": [
            "s\n",
            "u\n",
            "p\n",
            "e\n",
            "r\n",
            "c\n",
            "a\n",
            "l\n",
            "i\n",
            "f\n",
            "r\n",
            "a\n",
            "g\n",
            "i\n",
            "l\n",
            "i\n",
            "s\n",
            "t\n",
            "i\n",
            "c\n"
          ]
        }
      ]
    },
    {
      "cell_type": "markdown",
      "metadata": {
        "id": "Bf_wev6UdhPH"
      },
      "source": [
        "### Exercise 6 - using while loops\n",
        "---\n",
        "Write a program that asks the user to enter a positive number.\n",
        "`if` the number entered is not positive (ie it is less than 0) the user will be shown an error message and asked to enter the number again. `if` a positive number is entered, the program should print \"Thankyou, goodbye\"\n",
        "\n",
        "**Test Input**   \n",
        "-1   \n",
        "4\n",
        "\n",
        "\n",
        "**Expected Output**  \n",
        "Error   \n",
        "Thankyou, goodbye"
      ]
    },
    {
      "cell_type": "code",
      "metadata": {
        "id": "muSpMY4vdtfD",
        "outputId": "418d9269-a829-4e33-a5e2-9fede4652290",
        "colab": {
          "base_uri": "https://localhost:8080/"
        }
      },
      "source": [
        "def ask_positive_number():\n",
        "\n",
        "  num1 = int(input(\"Please enter a positive number: \"));\n",
        "\n",
        "  if num1 < 0:\n",
        "    print(\"Number is not positive!\");\n",
        "    ask_positive_number();\n",
        "  else:\n",
        "    print(\"Thank you, goodbye\");\n",
        "\n",
        "\n",
        "\n",
        "ask_positive_number();"
      ],
      "execution_count": null,
      "outputs": [
        {
          "output_type": "stream",
          "name": "stdout",
          "text": [
            "Please enter a positive number: -1\n",
            "Number is not positive!\n",
            "Please enter a positive number: 4\n",
            "Thank you, goodbye\n"
          ]
        }
      ]
    },
    {
      "cell_type": "markdown",
      "metadata": {
        "id": "Q-drRJ2kdt4g"
      },
      "source": [
        "### Exercise 7 - lists and using list functions\n",
        "---\n",
        "The `list.sort()` function will sort a list.\n",
        "Create a list of 5 numbers and use the sorted function to sort them, storing the sorted list in a variabled called **sorted_list**\n",
        "\n",
        "**Test Input**  \n",
        "[1, 87, -1, 8, 21]\n",
        "\n",
        "**Expected Output**  \n",
        "[-1, 1, 8, 21, 87]"
      ]
    },
    {
      "cell_type": "code",
      "metadata": {
        "id": "W4MxMJ1ieGqe",
        "colab": {
          "base_uri": "https://localhost:8080/"
        },
        "outputId": "25e6b367-b9bc-4035-b450-12fd7107d9c9"
      },
      "source": [
        "def sort_list():\n",
        "\n",
        "  firstList = [1, 87, -1, 8, 21];\n",
        "\n",
        "  sorted_list = [];\n",
        "\n",
        "  firstList.sort();\n",
        "\n",
        "  for i in firstList:\n",
        "\n",
        "    sorted_list.append(i);\n",
        "\n",
        "  print(sorted_list);\n",
        "\n",
        "sort_list();"
      ],
      "execution_count": 14,
      "outputs": [
        {
          "output_type": "stream",
          "name": "stdout",
          "text": [
            "[-1, 1, 8, 21, 87]\n"
          ]
        }
      ]
    },
    {
      "cell_type": "markdown",
      "metadata": {
        "id": "ZL0wbkQPeG6j"
      },
      "source": [
        "### Exercise 8 - dictionaries\n",
        "---\n",
        "Create an empty **dictionary** for a person (name, age and postcode). Read a person's details using the `input()` function and store them in your dictionary.\n",
        "\n",
        "Make sure that the entered age is a number (you could write a while loop to do this)\n",
        "\n",
        "Print the dictionary.  \n",
        "\n",
        "**Test Input**  \n",
        "Dave  \n",
        "24  \n",
        "SE11AB  \n",
        "\n",
        "**Expected Output**  \n",
        "{'name': 'Dave', 'age': 24, 'postcode': 'SE11AB'}"
      ]
    },
    {
      "cell_type": "code",
      "metadata": {
        "id": "jZc7zRAkeglf",
        "colab": {
          "base_uri": "https://localhost:8080/"
        },
        "outputId": "e3c963cb-2cbd-4b9c-8269-b1ac846f1256"
      },
      "source": [
        "def dictionaries():\n",
        "\n",
        "  dictionary = {\"name\":\"\", \"age\":0, \"postcode\":\"\"};\n",
        "\n",
        "  dictionary[\"name\"] = input(\"Please enter your name: \");\n",
        "\n",
        "  while dictionary[\"age\"] == 0:\n",
        "    dictionary[\"age\"] = int(input(\"Please enter your age: \"));\n",
        "\n",
        "  dictionary[\"postcode\"] = input(\"Please enter your postcode: \");\n",
        "\n",
        "  print(dictionary);\n",
        "\n",
        "\n",
        "dictionaries();"
      ],
      "execution_count": 21,
      "outputs": [
        {
          "output_type": "stream",
          "name": "stdout",
          "text": [
            "Please enter your name: Dave\n",
            "Please enter your age: 24\n",
            "Please enter your postcode: SE11AB\n",
            "{'name': 'Dave', 'age': 24, 'postcode': 'SE11AB'}\n"
          ]
        }
      ]
    },
    {
      "cell_type": "markdown",
      "metadata": {
        "id": "lpT0N5HqehHK"
      },
      "source": [
        "### Exercise 9 - functions, lists and loops\n",
        "---\n",
        "Write a function to create and `print` a list where the values are squares of numbers between 1 and 30 (both included).\n",
        "\n",
        "**Expected Output**  \n",
        "[0, 1, 4, 9, 16, 25, 36, 49, 64, 81, 100, 121, 144, 169, 196, 225, 256, 289, 324, 361, 400, 441, 484, 529, 576, 625, 676, 729, 784, 841, 900]\n"
      ]
    },
    {
      "cell_type": "code",
      "metadata": {
        "id": "_h6r0hAce7ro",
        "colab": {
          "base_uri": "https://localhost:8080/"
        },
        "outputId": "d32cd276-e7d7-4038-a8d9-e5aef1042593"
      },
      "source": [
        "def create_list():\n",
        "\n",
        "  squares = [];\n",
        "\n",
        "  for i in range(0, 31):\n",
        "\n",
        "    squares.append(i**2);\n",
        "\n",
        "  print(squares);\n",
        "\n",
        "\n",
        "create_list();"
      ],
      "execution_count": 25,
      "outputs": [
        {
          "output_type": "stream",
          "name": "stdout",
          "text": [
            "[0, 1, 4, 9, 16, 25, 36, 49, 64, 81, 100, 121, 144, 169, 196, 225, 256, 289, 324, 361, 400, 441, 484, 529, 576, 625, 676, 729, 784, 841, 900]\n"
          ]
        }
      ]
    },
    {
      "cell_type": "markdown",
      "metadata": {
        "id": "GPoXDPh2e8LB"
      },
      "source": [
        "### Exercise 10 - functions\n",
        "---\n",
        "Create one function called **show_mood** that will take a current mood as a **parameter** of the function and will `return` a sentence in the following format: \"Today, I am feeling {mood}\". However, `if` an empty string is passed, it will `return` \"Today, I am feeling neutral\".\n",
        "\n",
        "**Test input**  \n",
        "show_mood(\"happy\")    \n",
        "show_mood(\"sad\")  \n",
        "show_mood(\"\")   \n",
        "\n",
        "**Expected output**  \n",
        "\"Today, I am feeling happy\"  \n",
        "\"Today, I am feeling sad\"  \n",
        "\"Today, I am feeling neutral\"   \n",
        "\n"
      ]
    },
    {
      "cell_type": "code",
      "metadata": {
        "id": "SvF1CessfoqC",
        "colab": {
          "base_uri": "https://localhost:8080/"
        },
        "outputId": "eea3c70e-98a3-4269-8584-edd761c3900f"
      },
      "source": [
        "def show_mood(mood):\n",
        "\n",
        "  if mood == \"\":\n",
        "    mood = \"neutral\";\n",
        "\n",
        "    print(\"Today, I am feeling \",mood);\n",
        "  else:\n",
        "    print(\"Today, I am feeling \",mood);\n",
        "\n",
        "\n",
        "show_mood(\"happy\");\n",
        "\n",
        "show_mood(\"sad\");\n",
        "\n",
        "show_mood(\"\");"
      ],
      "execution_count": 29,
      "outputs": [
        {
          "output_type": "stream",
          "name": "stdout",
          "text": [
            "('Today, I am feeling ', 'happy')\n",
            "('Today, I am feeling ', 'sad')\n",
            "('Today, I am feeling ', 'neutral')\n"
          ]
        }
      ]
    },
    {
      "cell_type": "markdown",
      "metadata": {
        "id": "9U9rREgKumh1"
      },
      "source": [
        "### OPTIONAL Challenge\n",
        "---\n",
        "Copy and modify the function called **show_mood** so that it will take a current mood as a **parameter** of the function and will `return` a sentence in the following format: \"Today, I am feeling {mood}\". **However, if *no argument* is passed, it will assume that the mood is neutral**.\n",
        "\n",
        "**Test input**  \n",
        "show_mood(\"happy\")    \n",
        "show_mood(\"sad\")  \n",
        "show_mood()   \n",
        "\n",
        "**Expected output**  \n",
        "\"Today, I am feeling happy\"  \n",
        "\"Today, I am feeling sad\"  \n",
        "\"Today, I am feeling neutral\"   "
      ]
    },
    {
      "cell_type": "code",
      "metadata": {
        "id": "B2fYBD0Ouw2E",
        "colab": {
          "base_uri": "https://localhost:8080/"
        },
        "outputId": "b45e2748-1ca9-4bc0-db0d-b4f58c0a2288"
      },
      "source": [
        "def show_mood(mood = \"neutral\"):\n",
        "\n",
        "  if mood == \"neutral\":\n",
        "    print(\"Today, I am feeling \",mood);\n",
        "  else:\n",
        "    print(\"Today, I am feeling \",mood);\n",
        "\n",
        "\n",
        "show_mood(\"happy\");\n",
        "\n",
        "show_mood(\"sad\");\n",
        "\n",
        "show_mood();"
      ],
      "execution_count": 34,
      "outputs": [
        {
          "output_type": "stream",
          "name": "stdout",
          "text": [
            "Today, I am feeling  happy\n",
            "Today, I am feeling  sad\n",
            "Today, I am feeling  neutral\n"
          ]
        }
      ]
    }
  ]
}